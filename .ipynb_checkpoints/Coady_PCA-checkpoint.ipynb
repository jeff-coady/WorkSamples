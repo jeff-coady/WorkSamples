{
 "cells": [
  {
   "cell_type": "markdown",
   "metadata": {},
   "source": [
    "This is a Principal Components Analysis using my data on reading scores for deaf and hard-of-hearing (DHH) children. Please be aware that I'm violating one of the assumptions of PCA, namely that the variables be normally distributed. Some of the variables here are binary, meaning that results from the PCA are not valid. \n",
    "\n",
    "That being said, I wanted to show the method. I read somewhere that you shouldn't post analyses of the regularly available datasets (Titanic, Boston home prices, etc), but you should use your own data instead. So I'm posting this analysis as a demonstration, with a promise to never use the results."
   ]
  },
  {
   "cell_type": "code",
   "execution_count": 1,
   "metadata": {},
   "outputs": [],
   "source": [
    "import pandas as pd\n",
    "import numpy as np\n",
    "from sklearn.preprocessing import StandardScaler\n",
    "from sklearn.decomposition import PCA\n",
    "import matplotlib.pyplot as plt\n",
    "from sklearn.model_selection import train_test_split\n",
    "from sklearn.tree import DecisionTreeRegressor\n",
    "from sklearn.metrics import r2_score\n"
   ]
  },
  {
   "cell_type": "code",
   "execution_count": 2,
   "metadata": {},
   "outputs": [
    {
     "data": {
      "text/html": [
       "<div>\n",
       "<style scoped>\n",
       "    .dataframe tbody tr th:only-of-type {\n",
       "        vertical-align: middle;\n",
       "    }\n",
       "\n",
       "    .dataframe tbody tr th {\n",
       "        vertical-align: top;\n",
       "    }\n",
       "\n",
       "    .dataframe thead th {\n",
       "        text-align: right;\n",
       "    }\n",
       "</style>\n",
       "<table border=\"1\" class=\"dataframe\">\n",
       "  <thead>\n",
       "    <tr style=\"text-align: right;\">\n",
       "      <th></th>\n",
       "      <th>DPS_HomeLg</th>\n",
       "      <th>CYI_Lat</th>\n",
       "      <th>CYI_Deg</th>\n",
       "      <th>Disability</th>\n",
       "      <th>GT_C</th>\n",
       "      <th>FRL_C</th>\n",
       "      <th>Sect504_C</th>\n",
       "      <th>SPED_C</th>\n",
       "      <th>t_grade</th>\n",
       "      <th>time_t</th>\n",
       "      <th>time_t1</th>\n",
       "    </tr>\n",
       "  </thead>\n",
       "  <tbody>\n",
       "    <tr>\n",
       "      <th>0</th>\n",
       "      <td>1.0</td>\n",
       "      <td>1.0</td>\n",
       "      <td>1.0</td>\n",
       "      <td>0.0</td>\n",
       "      <td>0.0</td>\n",
       "      <td>1.0</td>\n",
       "      <td>0.1</td>\n",
       "      <td>0.8</td>\n",
       "      <td>4</td>\n",
       "      <td>414</td>\n",
       "      <td>220</td>\n",
       "    </tr>\n",
       "    <tr>\n",
       "      <th>1</th>\n",
       "      <td>1.0</td>\n",
       "      <td>1.0</td>\n",
       "      <td>1.0</td>\n",
       "      <td>0.0</td>\n",
       "      <td>0.0</td>\n",
       "      <td>1.0</td>\n",
       "      <td>0.1</td>\n",
       "      <td>0.8</td>\n",
       "      <td>5</td>\n",
       "      <td>220</td>\n",
       "      <td>260</td>\n",
       "    </tr>\n",
       "    <tr>\n",
       "      <th>2</th>\n",
       "      <td>1.0</td>\n",
       "      <td>1.0</td>\n",
       "      <td>1.0</td>\n",
       "      <td>0.0</td>\n",
       "      <td>0.0</td>\n",
       "      <td>1.0</td>\n",
       "      <td>0.1</td>\n",
       "      <td>0.8</td>\n",
       "      <td>6</td>\n",
       "      <td>260</td>\n",
       "      <td>503</td>\n",
       "    </tr>\n",
       "    <tr>\n",
       "      <th>3</th>\n",
       "      <td>1.0</td>\n",
       "      <td>1.0</td>\n",
       "      <td>1.0</td>\n",
       "      <td>0.0</td>\n",
       "      <td>0.0</td>\n",
       "      <td>1.0</td>\n",
       "      <td>0.1</td>\n",
       "      <td>0.8</td>\n",
       "      <td>7</td>\n",
       "      <td>503</td>\n",
       "      <td>537</td>\n",
       "    </tr>\n",
       "    <tr>\n",
       "      <th>4</th>\n",
       "      <td>1.0</td>\n",
       "      <td>1.0</td>\n",
       "      <td>1.0</td>\n",
       "      <td>0.0</td>\n",
       "      <td>0.0</td>\n",
       "      <td>1.0</td>\n",
       "      <td>0.1</td>\n",
       "      <td>0.8</td>\n",
       "      <td>8</td>\n",
       "      <td>537</td>\n",
       "      <td>559</td>\n",
       "    </tr>\n",
       "  </tbody>\n",
       "</table>\n",
       "</div>"
      ],
      "text/plain": [
       "   DPS_HomeLg  CYI_Lat  CYI_Deg  Disability  GT_C  FRL_C  Sect504_C  SPED_C  \\\n",
       "0         1.0      1.0      1.0         0.0   0.0    1.0        0.1     0.8   \n",
       "1         1.0      1.0      1.0         0.0   0.0    1.0        0.1     0.8   \n",
       "2         1.0      1.0      1.0         0.0   0.0    1.0        0.1     0.8   \n",
       "3         1.0      1.0      1.0         0.0   0.0    1.0        0.1     0.8   \n",
       "4         1.0      1.0      1.0         0.0   0.0    1.0        0.1     0.8   \n",
       "\n",
       "   t_grade  time_t  time_t1  \n",
       "0        4     414      220  \n",
       "1        5     220      260  \n",
       "2        6     260      503  \n",
       "3        7     503      537  \n",
       "4        8     537      559  "
      ]
     },
     "execution_count": 2,
     "metadata": {},
     "output_type": "execute_result"
    }
   ],
   "source": [
    "# This is a Principal Components Analysis using my data on\n",
    "# reading scores for deaf and hard-of-hearing children.\n",
    "\n",
    "df = pd.read_csv('DataLinkageML.csv')\n",
    "df.drop('Unnamed: 0', axis=1, inplace=True)\n",
    "df.drop('StudentNumber', axis=1, inplace=True)\n",
    "df.head()\n"
   ]
  },
  {
   "cell_type": "code",
   "execution_count": 3,
   "metadata": {},
   "outputs": [
    {
     "name": "stderr",
     "output_type": "stream",
     "text": [
      "/Applications/anaconda3/lib/python3.6/site-packages/sklearn/preprocessing/data.py:645: DataConversionWarning: Data with input dtype int64, float64 were all converted to float64 by StandardScaler.\n",
      "  return self.partial_fit(X, y)\n",
      "/Applications/anaconda3/lib/python3.6/site-packages/sklearn/base.py:464: DataConversionWarning: Data with input dtype int64, float64 were all converted to float64 by StandardScaler.\n",
      "  return self.fit(X, **fit_params).transform(X)\n"
     ]
    }
   ],
   "source": [
    "X = df.drop('time_t1', axis=1)\n",
    "colnames = X.columns.tolist()\n",
    "X = StandardScaler().fit_transform(X)\n",
    "y = df['time_t1']"
   ]
  },
  {
   "cell_type": "code",
   "execution_count": 4,
   "metadata": {},
   "outputs": [
    {
     "data": {
      "text/html": [
       "<div>\n",
       "<style scoped>\n",
       "    .dataframe tbody tr th:only-of-type {\n",
       "        vertical-align: middle;\n",
       "    }\n",
       "\n",
       "    .dataframe tbody tr th {\n",
       "        vertical-align: top;\n",
       "    }\n",
       "\n",
       "    .dataframe thead th {\n",
       "        text-align: right;\n",
       "    }\n",
       "</style>\n",
       "<table border=\"1\" class=\"dataframe\">\n",
       "  <thead>\n",
       "    <tr style=\"text-align: right;\">\n",
       "      <th></th>\n",
       "      <th>PC1</th>\n",
       "      <th>PC2</th>\n",
       "      <th>PC3</th>\n",
       "      <th>PC4</th>\n",
       "      <th>PC5</th>\n",
       "      <th>PC6</th>\n",
       "      <th>PC7</th>\n",
       "      <th>PC8</th>\n",
       "      <th>PC9</th>\n",
       "      <th>PC10</th>\n",
       "    </tr>\n",
       "  </thead>\n",
       "  <tbody>\n",
       "    <tr>\n",
       "      <th>0</th>\n",
       "      <td>-1.613680</td>\n",
       "      <td>0.195323</td>\n",
       "      <td>-0.010529</td>\n",
       "      <td>-1.096795</td>\n",
       "      <td>-0.892130</td>\n",
       "      <td>0.518459</td>\n",
       "      <td>0.313373</td>\n",
       "      <td>1.017176</td>\n",
       "      <td>0.137641</td>\n",
       "      <td>-0.071014</td>\n",
       "    </tr>\n",
       "    <tr>\n",
       "      <th>1</th>\n",
       "      <td>-2.356370</td>\n",
       "      <td>-0.324680</td>\n",
       "      <td>0.170075</td>\n",
       "      <td>-1.202937</td>\n",
       "      <td>-1.164116</td>\n",
       "      <td>0.686175</td>\n",
       "      <td>0.425103</td>\n",
       "      <td>1.054852</td>\n",
       "      <td>1.822520</td>\n",
       "      <td>0.056872</td>\n",
       "    </tr>\n",
       "    <tr>\n",
       "      <th>2</th>\n",
       "      <td>-2.156040</td>\n",
       "      <td>-0.082820</td>\n",
       "      <td>-0.110538</td>\n",
       "      <td>-0.711596</td>\n",
       "      <td>-1.084969</td>\n",
       "      <td>0.670871</td>\n",
       "      <td>0.434694</td>\n",
       "      <td>1.078804</td>\n",
       "      <td>1.787033</td>\n",
       "      <td>0.063854</td>\n",
       "    </tr>\n",
       "    <tr>\n",
       "      <th>3</th>\n",
       "      <td>-1.137620</td>\n",
       "      <td>0.819971</td>\n",
       "      <td>-0.791269</td>\n",
       "      <td>0.298075</td>\n",
       "      <td>-0.701208</td>\n",
       "      <td>0.496793</td>\n",
       "      <td>0.355677</td>\n",
       "      <td>1.090849</td>\n",
       "      <td>0.259093</td>\n",
       "      <td>-0.034052</td>\n",
       "    </tr>\n",
       "    <tr>\n",
       "      <th>4</th>\n",
       "      <td>-0.961469</td>\n",
       "      <td>1.042296</td>\n",
       "      <td>-1.060056</td>\n",
       "      <td>0.774096</td>\n",
       "      <td>-0.631065</td>\n",
       "      <td>0.486182</td>\n",
       "      <td>0.367886</td>\n",
       "      <td>1.115152</td>\n",
       "      <td>0.267718</td>\n",
       "      <td>-0.023971</td>\n",
       "    </tr>\n",
       "  </tbody>\n",
       "</table>\n",
       "</div>"
      ],
      "text/plain": [
       "        PC1       PC2       PC3       PC4       PC5       PC6       PC7  \\\n",
       "0 -1.613680  0.195323 -0.010529 -1.096795 -0.892130  0.518459  0.313373   \n",
       "1 -2.356370 -0.324680  0.170075 -1.202937 -1.164116  0.686175  0.425103   \n",
       "2 -2.156040 -0.082820 -0.110538 -0.711596 -1.084969  0.670871  0.434694   \n",
       "3 -1.137620  0.819971 -0.791269  0.298075 -0.701208  0.496793  0.355677   \n",
       "4 -0.961469  1.042296 -1.060056  0.774096 -0.631065  0.486182  0.367886   \n",
       "\n",
       "        PC8       PC9      PC10  \n",
       "0  1.017176  0.137641 -0.071014  \n",
       "1  1.054852  1.822520  0.056872  \n",
       "2  1.078804  1.787033  0.063854  \n",
       "3  1.090849  0.259093 -0.034052  \n",
       "4  1.115152  0.267718 -0.023971  "
      ]
     },
     "execution_count": 4,
     "metadata": {},
     "output_type": "execute_result"
    }
   ],
   "source": [
    "pca = PCA()\n",
    "principalComponents = pca.fit_transform(X)\n",
    "principalDf = pd.DataFrame(data = principalComponents, \n",
    "                           columns=['PC'+str(i) for i in range(1, X.shape[1]+1)])\n",
    "principalDf.head()"
   ]
  },
  {
   "cell_type": "markdown",
   "metadata": {},
   "source": [
    "So how many Principal Compenents should we accept? The first option is to plot the eigenvalues and look for an elbow--a bend in the graph."
   ]
  },
  {
   "cell_type": "code",
   "execution_count": 5,
   "metadata": {},
   "outputs": [
    {
     "data": {
      "text/plain": [
       "([<matplotlib.axis.XTick at 0x7fdfaa9be128>,\n",
       "  <matplotlib.axis.XTick at 0x7fdfaa9a39e8>,\n",
       "  <matplotlib.axis.XTick at 0x7fdfaa9a36d8>,\n",
       "  <matplotlib.axis.XTick at 0x7fdfaaa01550>,\n",
       "  <matplotlib.axis.XTick at 0x7fdfaaa018d0>,\n",
       "  <matplotlib.axis.XTick at 0x7fdfaaa01da0>,\n",
       "  <matplotlib.axis.XTick at 0x7fdfaaa112b0>,\n",
       "  <matplotlib.axis.XTick at 0x7fdfaaa11780>,\n",
       "  <matplotlib.axis.XTick at 0x7fdfaaa11c50>,\n",
       "  <matplotlib.axis.XTick at 0x7fdfaaa19198>],\n",
       " <a list of 10 Text xticklabel objects>)"
      ]
     },
     "execution_count": 5,
     "metadata": {},
     "output_type": "execute_result"
    },
    {
     "data": {
      "image/png": "[encoded data removed]",
      "text/plain": [
       "<Figure size 432x288 with 1 Axes>"
      ]
     },
     "metadata": {
      "needs_background": "light"
     },
     "output_type": "display_data"
    }
   ],
   "source": [
    "eigenvalues = pca.explained_variance_\n",
    "x_pos = [i+1 for i, _ in enumerate(eigenvalues)]\n",
    "\n",
    "plt.ylabel('Eigenvalue')\n",
    "plt.xlabel('PC')\n",
    "plt.bar(x_pos, eigenvalues)\n",
    "plt.title('PCA Scree Plot')\n",
    "\n",
    "plt.hlines(1,0.5,10.5)\n",
    "plt.xticks(np.arange(min(x_pos),max(x_pos)+1,1))\n"
   ]
  },
  {
   "cell_type": "markdown",
   "metadata": {},
   "source": [
    "I see a significant dropoff between the first and second PCs, suggesting a single PC, and another dropoff between the fourth and fifth PCs, suggesting using the first four PCs. \n",
    "\n",
    "The second option is to choose those PCs with an eigenvalue > 1, meaning they account for more variance than any single variable would, assuming they all account for equal variance."
   ]
  },
  {
   "cell_type": "code",
   "execution_count": 6,
   "metadata": {},
   "outputs": [
    {
     "data": {
      "text/plain": [
       "array([2.7199477 , 1.61762918, 1.32384107, 1.14827736, 0.86366223,\n",
       "       0.66871155, 0.54761721, 0.53348097, 0.33777693, 0.25107502])"
      ]
     },
     "execution_count": 6,
     "metadata": {},
     "output_type": "execute_result"
    }
   ],
   "source": [
    "eigenvalues"
   ]
  },
  {
   "cell_type": "markdown",
   "metadata": {},
   "source": [
    "According to that rubric, we'd choose the first 4, since they have eigenvalues > 1.\n",
    "\n",
    "The third option, probably more common now, is to choose those PCs that account for a given proportion of the variance, typically 90-95%"
   ]
  },
  {
   "cell_type": "code",
   "execution_count": 7,
   "metadata": {},
   "outputs": [
    {
     "data": {
      "text/plain": [
       "array([0.27166825, 0.16156872, 0.13222518, 0.11468989, 0.08626254,\n",
       "       0.06679088, 0.05469598, 0.05328405, 0.03373714, 0.02507736])"
      ]
     },
     "execution_count": 7,
     "metadata": {},
     "output_type": "execute_result"
    }
   ],
   "source": [
    "pca.explained_variance_ratio_"
   ]
  },
  {
   "cell_type": "code",
   "execution_count": 8,
   "metadata": {},
   "outputs": [
    {
     "data": {
      "text/plain": [
       "([<matplotlib.axis.XTick at 0x7fdfaaa765c0>,\n",
       "  <matplotlib.axis.XTick at 0x7fdfaaa79eb8>,\n",
       "  <matplotlib.axis.XTick at 0x7fdfaaa79be0>,\n",
       "  <matplotlib.axis.XTick at 0x7fdfaaaacf28>,\n",
       "  <matplotlib.axis.XTick at 0x7fdfaaab93c8>,\n",
       "  <matplotlib.axis.XTick at 0x7fdfaaab9898>,\n",
       "  <matplotlib.axis.XTick at 0x7fdfaaab9d68>,\n",
       "  <matplotlib.axis.XTick at 0x7fdfaaab9390>,\n",
       "  <matplotlib.axis.XTick at 0x7fdfaaabf2e8>,\n",
       "  <matplotlib.axis.XTick at 0x7fdfaaabf7b8>],\n",
       " <a list of 10 Text xticklabel objects>)"
      ]
     },
     "execution_count": 8,
     "metadata": {},
     "output_type": "execute_result"
    },
    {
     "data": {
      "image/png": "[encoded data removed]",
      "text/plain": [
       "<Figure size 432x288 with 1 Axes>"
      ]
     },
     "metadata": {
      "needs_background": "light"
     },
     "output_type": "display_data"
    }
   ],
   "source": [
    "var = np.cumsum(np.round(pca.explained_variance_ratio_, decimals=3)*100)\n",
    "\n",
    "x = list(range(1, len(var)+1))\n",
    "\n",
    "plt.ylabel('% Variance Explained')\n",
    "plt.xlabel('# of Features')\n",
    "plt.title('Cumulative Variance')\n",
    "plt.ylim(20,100.5)\n",
    "\n",
    "plt.scatter(x, var)\n",
    "plt.hlines(90,0.5,10.5, linestyle='dashed', colors='r')\n",
    "plt.vlines(8,20,100, linestyle='dashed', colors='r')\n",
    "plt.xticks(np.arange(min(x),max(x)+1,1))\n"
   ]
  },
  {
   "cell_type": "code",
   "execution_count": 9,
   "metadata": {},
   "outputs": [
    {
     "data": {
      "text/plain": [
       "array([ 27.2,  43.4,  56.6,  68.1,  76.7,  83.4,  88.9,  94.2,  97.6,\n",
       "       100.1])"
      ]
     },
     "execution_count": 9,
     "metadata": {},
     "output_type": "execute_result"
    }
   ],
   "source": [
    "var"
   ]
  },
  {
   "cell_type": "markdown",
   "metadata": {},
   "source": [
    "There are 10 variables, and it takes 9 of them to account for 95% of the variance, but only 8 to account for 90% of the variance. So for simplicity, we'll consider the first 8 PCs.\n",
    "\n",
    "So now let's look at the factor loadings. What is loading onto each of the first 8 PCs?"
   ]
  },
  {
   "cell_type": "code",
   "execution_count": 10,
   "metadata": {},
   "outputs": [
    {
     "data": {
      "text/html": [
       "<div>\n",
       "<style scoped>\n",
       "    .dataframe tbody tr th:only-of-type {\n",
       "        vertical-align: middle;\n",
       "    }\n",
       "\n",
       "    .dataframe tbody tr th {\n",
       "        vertical-align: top;\n",
       "    }\n",
       "\n",
       "    .dataframe thead th {\n",
       "        text-align: right;\n",
       "    }\n",
       "</style>\n",
       "<table border=\"1\" class=\"dataframe\">\n",
       "  <thead>\n",
       "    <tr style=\"text-align: right;\">\n",
       "      <th></th>\n",
       "      <th>PC1</th>\n",
       "      <th>PC2</th>\n",
       "      <th>PC3</th>\n",
       "      <th>PC4</th>\n",
       "      <th>PC5</th>\n",
       "      <th>PC6</th>\n",
       "      <th>PC7</th>\n",
       "      <th>PC8</th>\n",
       "    </tr>\n",
       "  </thead>\n",
       "  <tbody>\n",
       "    <tr>\n",
       "      <th>DPS_HomeLg</th>\n",
       "      <td>0.221403</td>\n",
       "      <td>0.322128</td>\n",
       "      <td>0.376419</td>\n",
       "      <td>0.042861</td>\n",
       "      <td>-0.636266</td>\n",
       "      <td>-0.190027</td>\n",
       "      <td>0.252808</td>\n",
       "      <td>0.426328</td>\n",
       "    </tr>\n",
       "    <tr>\n",
       "      <th>CYI_Lat</th>\n",
       "      <td>-0.256947</td>\n",
       "      <td>0.460348</td>\n",
       "      <td>-0.180769</td>\n",
       "      <td>-0.257625</td>\n",
       "      <td>0.169323</td>\n",
       "      <td>-0.402911</td>\n",
       "      <td>-0.545600</td>\n",
       "      <td>0.312757</td>\n",
       "    </tr>\n",
       "    <tr>\n",
       "      <th>CYI_Deg</th>\n",
       "      <td>-0.282907</td>\n",
       "      <td>0.403928</td>\n",
       "      <td>-0.214023</td>\n",
       "      <td>-0.190770</td>\n",
       "      <td>-0.105280</td>\n",
       "      <td>0.727775</td>\n",
       "      <td>0.112202</td>\n",
       "      <td>0.230556</td>\n",
       "    </tr>\n",
       "    <tr>\n",
       "      <th>Disability</th>\n",
       "      <td>-0.026062</td>\n",
       "      <td>-0.065591</td>\n",
       "      <td>0.645978</td>\n",
       "      <td>0.340391</td>\n",
       "      <td>0.396002</td>\n",
       "      <td>0.262078</td>\n",
       "      <td>-0.302736</td>\n",
       "      <td>0.371268</td>\n",
       "    </tr>\n",
       "    <tr>\n",
       "      <th>GT_C</th>\n",
       "      <td>0.314947</td>\n",
       "      <td>0.271029</td>\n",
       "      <td>0.087667</td>\n",
       "      <td>-0.306079</td>\n",
       "      <td>0.591927</td>\n",
       "      <td>-0.077943</td>\n",
       "      <td>0.543698</td>\n",
       "      <td>0.084007</td>\n",
       "    </tr>\n",
       "    <tr>\n",
       "      <th>FRL_C</th>\n",
       "      <td>-0.295374</td>\n",
       "      <td>-0.432124</td>\n",
       "      <td>-0.305888</td>\n",
       "      <td>0.082626</td>\n",
       "      <td>0.118530</td>\n",
       "      <td>-0.170423</td>\n",
       "      <td>0.339717</td>\n",
       "      <td>0.635428</td>\n",
       "    </tr>\n",
       "    <tr>\n",
       "      <th>Sect504_C</th>\n",
       "      <td>0.466773</td>\n",
       "      <td>-0.194617</td>\n",
       "      <td>-0.192127</td>\n",
       "      <td>-0.171491</td>\n",
       "      <td>-0.019749</td>\n",
       "      <td>0.396312</td>\n",
       "      <td>-0.237305</td>\n",
       "      <td>0.182011</td>\n",
       "    </tr>\n",
       "    <tr>\n",
       "      <th>SPED_C</th>\n",
       "      <td>-0.471952</td>\n",
       "      <td>0.248177</td>\n",
       "      <td>0.189038</td>\n",
       "      <td>0.177748</td>\n",
       "      <td>0.093028</td>\n",
       "      <td>0.060313</td>\n",
       "      <td>0.249349</td>\n",
       "      <td>-0.287984</td>\n",
       "    </tr>\n",
       "    <tr>\n",
       "      <th>t_grade</th>\n",
       "      <td>0.074501</td>\n",
       "      <td>0.212530</td>\n",
       "      <td>-0.384162</td>\n",
       "      <td>0.741024</td>\n",
       "      <td>0.036410</td>\n",
       "      <td>0.030428</td>\n",
       "      <td>0.051502</td>\n",
       "      <td>0.050069</td>\n",
       "    </tr>\n",
       "    <tr>\n",
       "      <th>time_t</th>\n",
       "      <td>0.414295</td>\n",
       "      <td>0.334707</td>\n",
       "      <td>-0.202626</td>\n",
       "      <td>0.262491</td>\n",
       "      <td>0.154262</td>\n",
       "      <td>-0.080406</td>\n",
       "      <td>-0.044873</td>\n",
       "      <td>-0.006030</td>\n",
       "    </tr>\n",
       "  </tbody>\n",
       "</table>\n",
       "</div>"
      ],
      "text/plain": [
       "                 PC1       PC2       PC3       PC4       PC5       PC6  \\\n",
       "DPS_HomeLg  0.221403  0.322128  0.376419  0.042861 -0.636266 -0.190027   \n",
       "CYI_Lat    -0.256947  0.460348 -0.180769 -0.257625  0.169323 -0.402911   \n",
       "CYI_Deg    -0.282907  0.403928 -0.214023 -0.190770 -0.105280  0.727775   \n",
       "Disability -0.026062 -0.065591  0.645978  0.340391  0.396002  0.262078   \n",
       "GT_C        0.314947  0.271029  0.087667 -0.306079  0.591927 -0.077943   \n",
       "FRL_C      -0.295374 -0.432124 -0.305888  0.082626  0.118530 -0.170423   \n",
       "Sect504_C   0.466773 -0.194617 -0.192127 -0.171491 -0.019749  0.396312   \n",
       "SPED_C     -0.471952  0.248177  0.189038  0.177748  0.093028  0.060313   \n",
       "t_grade     0.074501  0.212530 -0.384162  0.741024  0.036410  0.030428   \n",
       "time_t      0.414295  0.334707 -0.202626  0.262491  0.154262 -0.080406   \n",
       "\n",
       "                 PC7       PC8  \n",
       "DPS_HomeLg  0.252808  0.426328  \n",
       "CYI_Lat    -0.545600  0.312757  \n",
       "CYI_Deg     0.112202  0.230556  \n",
       "Disability -0.302736  0.371268  \n",
       "GT_C        0.543698  0.084007  \n",
       "FRL_C       0.339717  0.635428  \n",
       "Sect504_C  -0.237305  0.182011  \n",
       "SPED_C      0.249349 -0.287984  \n",
       "t_grade     0.051502  0.050069  \n",
       "time_t     -0.044873 -0.006030  "
      ]
     },
     "execution_count": 10,
     "metadata": {},
     "output_type": "execute_result"
    }
   ],
   "source": [
    "loadings = pd.DataFrame(pca.components_.T, columns=['PC'+str(i) for i in range(1, X.shape[1]+1)], index=colnames[:11])\n",
    "loadings = loadings.drop(['PC9','PC10'], axis = 1)\n",
    "loadings\n"
   ]
  },
  {
   "cell_type": "markdown",
   "metadata": {},
   "source": [
    "For factor loadings, I'm considering any loading whose absolute value > 0.4.\n",
    "\n",
    "PC1:  Section 504, Special Ed, and the previous reading score\n",
    "    \n",
    "PC2:  Laterality, Degree of Hearing Loss\n",
    "    \n",
    "PC3:  Other Disability\n",
    "\n",
    "PC4:  Child's Grade\n",
    "\n",
    "PC5:  Home Language, Gifted/Talented\n",
    "\n",
    "PC6:  Laterality, Degeee of Hearing Loss\n",
    "\n",
    "PC7:  Laterality, Gifted/Talented\n",
    "\n",
    "PC8:  Home Language, Free/Reduced Lunch\n",
    "\n",
    "The graph showing cumulative variance doesn't really reach asymptote until the final PC. That tells me that there's not much redundancy here. These predictor variables account for mostly separate variance.\n",
    "\n",
    "If the results were valid, at this point I would compare results using the full data set vs the principal components. But I promised not to do that, and so I'll leave it here."
   ]
  },
  {
   "cell_type": "code",
   "execution_count": null,
   "metadata": {},
   "outputs": [],
   "source": []
  }
 ],
 "metadata": {
  "kernelspec": {
   "display_name": "Python 3",
   "language": "python",
   "name": "python3"
  },
  "language_info": {
   "codemirror_mode": {
    "name": "ipython",
    "version": 3
   },
   "file_extension": ".py",
   "mimetype": "text/x-python",
   "name": "python",
   "nbconvert_exporter": "python",
   "pygments_lexer": "ipython3",
   "version": "3.6.8"
  }
 },
 "nbformat": 4,
 "nbformat_minor": 2
}
