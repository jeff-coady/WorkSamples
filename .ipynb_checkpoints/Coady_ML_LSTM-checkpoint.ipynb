{
 "cells": [
  {
   "cell_type": "markdown",
   "metadata": {},
   "source": [
    "My work at the time of this model was on a project looking at education outcomes for deaf and hard-of-hearing (DHH) children. The State of Colorado instituted universal newborn hearing screening (UNHS) in 1997 to identify children with hearing loss sooner so that remediation could begin sooner. Then those children should start schooling not already lagging behind their peers. The problem was that UNHS's efficacy had never been demonstrated. This project was meant to demonstrate that UNHS works.\n",
    "\n",
    "This model was a part of my capstone project at DU. The requirement for the capstone was to implement a machine learning model. Because the data (potentially) contained yearly reading scores for DHH children, my advisor suggested a long short-term memory (LSTM) model to capitalize on the time series component. However, the data were so sparse with so many missing values that we settled on using a reading score from one grade to predict the reading score in the next grade. We also included a number of demographic variables as predictors.\n",
    "\n",
    "Demographic Variables:\n",
    "    \n",
    "Child grade\n",
    "\n",
    "Home language (English vs. Spanish)\n",
    "\n",
    "Degree of hearing loss (mild/moderate vs. severe/profound/cochlear implant)\n",
    "\n",
    "Laterality of hearing loss (unilateral vs. bilateral)\n",
    "\n",
    "Presence/absence of other disabilities\n",
    "\n",
    "Participation in gifted/talented program\n",
    "\n",
    "Participation in free/reduced lunch program (as a measure of socio-economic status)\n",
    "     \n",
    "Participation in Special Education\n",
    "\n",
    "Participation in Section 504 (intermediate program between mainstreaming and special education)\n"
   ]
  },
  {
   "cell_type": "code",
   "execution_count": 1,
   "metadata": {},
   "outputs": [],
   "source": [
    "import pandas as pd\n",
    "import numpy as np\n",
    "pd.options.display.max_columns = None\n",
    "pd.options.display.max_rows = None"
   ]
  },
  {
   "cell_type": "code",
   "execution_count": 2,
   "metadata": {},
   "outputs": [],
   "source": [
    "import matplotlib.pyplot as plt\n",
    "pd.set_option('display.float_format', lambda x: '%.4f' % x)\n",
    "import seaborn as sns\n",
    "sns.set_context(\"paper\", font_scale=1.3)\n",
    "sns.set_style('white')\n",
    "import warnings\n",
    "warnings.filterwarnings('ignore')\n",
    "from time import time\n",
    "import matplotlib.ticker as tkr\n",
    "from scipy import stats\n",
    "from statsmodels.tsa.stattools import adfuller\n",
    "from sklearn import preprocessing\n",
    "from statsmodels.tsa.stattools import pacf\n",
    "%matplotlib inline"
   ]
  },
  {
   "cell_type": "code",
   "execution_count": 3,
   "metadata": {},
   "outputs": [
    {
     "name": "stderr",
     "output_type": "stream",
     "text": [
      "Using TensorFlow backend.\n"
     ]
    }
   ],
   "source": [
    "import math\n",
    "import keras\n",
    "from keras.models import Sequential\n",
    "from keras.layers import Dense\n",
    "from keras.layers import LSTM\n",
    "from keras.layers import Dropout\n",
    "from keras.layers import *\n",
    "from sklearn.preprocessing import MinMaxScaler\n",
    "from sklearn.metrics import mean_squared_error\n",
    "from sklearn.metrics import mean_absolute_error\n",
    "from sklearn.metrics import r2_score\n",
    "from sklearn.model_selection import train_test_split\n",
    "from keras.callbacks import EarlyStopping"
   ]
  },
  {
   "cell_type": "markdown",
   "metadata": {},
   "source": [
    "The original test score file contained all test results for all deaf\n",
    "and hard-of-hearing children in the Denver Public Schools between 2000-\n",
    "2017.\n",
    "\n",
    "That file contained 289,456 rows and 14 columns, organized so that each \n",
    "row contained a single test score. Each child had multiple test scores, \n",
    "and so multiple rows, marked by child ID number, child grade, and test. \n",
    "\n",
    "This file was cleaned up to only include CSAP Reading scores and then\n",
    "merged with a separate Demographics file. It was further organized such\n",
    "that consecutive years were represented. That is, demographic information\n",
    "and Grade 4 reading scores were used to predict Grade 5 reading scores.\n",
    "\n",
    "The file loaded here, DataLinkageML.csv, is the end result of that \n",
    "clean-up process.\n"
   ]
  },
  {
   "cell_type": "code",
   "execution_count": 4,
   "metadata": {},
   "outputs": [
    {
     "data": {
      "text/html": [
       "<div>\n",
       "<style scoped>\n",
       "    .dataframe tbody tr th:only-of-type {\n",
       "        vertical-align: middle;\n",
       "    }\n",
       "\n",
       "    .dataframe tbody tr th {\n",
       "        vertical-align: top;\n",
       "    }\n",
       "\n",
       "    .dataframe thead th {\n",
       "        text-align: right;\n",
       "    }\n",
       "</style>\n",
       "<table border=\"1\" class=\"dataframe\">\n",
       "  <thead>\n",
       "    <tr style=\"text-align: right;\">\n",
       "      <th></th>\n",
       "      <th>DPS_HomeLg</th>\n",
       "      <th>CYI_Lat</th>\n",
       "      <th>CYI_Deg</th>\n",
       "      <th>Disability</th>\n",
       "      <th>GT_C</th>\n",
       "      <th>FRL_C</th>\n",
       "      <th>Sect504_C</th>\n",
       "      <th>SPED_C</th>\n",
       "      <th>t_grade</th>\n",
       "      <th>time_t</th>\n",
       "      <th>time_t1</th>\n",
       "    </tr>\n",
       "  </thead>\n",
       "  <tbody>\n",
       "    <tr>\n",
       "      <th>0</th>\n",
       "      <td>1.0000</td>\n",
       "      <td>1.0000</td>\n",
       "      <td>1.0000</td>\n",
       "      <td>0.0000</td>\n",
       "      <td>0.0000</td>\n",
       "      <td>1.0000</td>\n",
       "      <td>0.1000</td>\n",
       "      <td>0.8000</td>\n",
       "      <td>4</td>\n",
       "      <td>414</td>\n",
       "      <td>220</td>\n",
       "    </tr>\n",
       "    <tr>\n",
       "      <th>1</th>\n",
       "      <td>1.0000</td>\n",
       "      <td>1.0000</td>\n",
       "      <td>1.0000</td>\n",
       "      <td>0.0000</td>\n",
       "      <td>0.0000</td>\n",
       "      <td>1.0000</td>\n",
       "      <td>0.1000</td>\n",
       "      <td>0.8000</td>\n",
       "      <td>5</td>\n",
       "      <td>220</td>\n",
       "      <td>260</td>\n",
       "    </tr>\n",
       "    <tr>\n",
       "      <th>2</th>\n",
       "      <td>1.0000</td>\n",
       "      <td>1.0000</td>\n",
       "      <td>1.0000</td>\n",
       "      <td>0.0000</td>\n",
       "      <td>0.0000</td>\n",
       "      <td>1.0000</td>\n",
       "      <td>0.1000</td>\n",
       "      <td>0.8000</td>\n",
       "      <td>6</td>\n",
       "      <td>260</td>\n",
       "      <td>503</td>\n",
       "    </tr>\n",
       "    <tr>\n",
       "      <th>3</th>\n",
       "      <td>1.0000</td>\n",
       "      <td>1.0000</td>\n",
       "      <td>1.0000</td>\n",
       "      <td>0.0000</td>\n",
       "      <td>0.0000</td>\n",
       "      <td>1.0000</td>\n",
       "      <td>0.1000</td>\n",
       "      <td>0.8000</td>\n",
       "      <td>7</td>\n",
       "      <td>503</td>\n",
       "      <td>537</td>\n",
       "    </tr>\n",
       "    <tr>\n",
       "      <th>4</th>\n",
       "      <td>1.0000</td>\n",
       "      <td>1.0000</td>\n",
       "      <td>1.0000</td>\n",
       "      <td>0.0000</td>\n",
       "      <td>0.0000</td>\n",
       "      <td>1.0000</td>\n",
       "      <td>0.1000</td>\n",
       "      <td>0.8000</td>\n",
       "      <td>8</td>\n",
       "      <td>537</td>\n",
       "      <td>559</td>\n",
       "    </tr>\n",
       "  </tbody>\n",
       "</table>\n",
       "</div>"
      ],
      "text/plain": [
       "   DPS_HomeLg  CYI_Lat  CYI_Deg  Disability   GT_C  FRL_C  Sect504_C  SPED_C  \\\n",
       "0      1.0000   1.0000   1.0000      0.0000 0.0000 1.0000     0.1000  0.8000   \n",
       "1      1.0000   1.0000   1.0000      0.0000 0.0000 1.0000     0.1000  0.8000   \n",
       "2      1.0000   1.0000   1.0000      0.0000 0.0000 1.0000     0.1000  0.8000   \n",
       "3      1.0000   1.0000   1.0000      0.0000 0.0000 1.0000     0.1000  0.8000   \n",
       "4      1.0000   1.0000   1.0000      0.0000 0.0000 1.0000     0.1000  0.8000   \n",
       "\n",
       "   t_grade  time_t  time_t1  \n",
       "0        4     414      220  \n",
       "1        5     220      260  \n",
       "2        6     260      503  \n",
       "3        7     503      537  \n",
       "4        8     537      559  "
      ]
     },
     "execution_count": 4,
     "metadata": {},
     "output_type": "execute_result"
    }
   ],
   "source": [
    "df = pd.read_csv('DataLinkageML.csv')\n",
    "df.drop('Unnamed: 0', axis=1, inplace=True)\n",
    "df.drop('StudentNumber', axis=1, inplace=True)\n",
    "df.head()\n"
   ]
  },
  {
   "cell_type": "code",
   "execution_count": 5,
   "metadata": {},
   "outputs": [
    {
     "data": {
      "text/plain": [
       "((624, 10), (624,), (209, 10), (209,))"
      ]
     },
     "execution_count": 5,
     "metadata": {},
     "output_type": "execute_result"
    }
   ],
   "source": [
    "# train-test split\n",
    "\n",
    "X = df.drop('time_t1', axis=1)\n",
    "y = df['time_t1']\n",
    "X_train, X_test, y_train, y_test = train_test_split(X,y, test_size = 0.25)\n",
    "X_train.shape, y_train.shape, X_test.shape, y_test.shape\n"
   ]
  },
  {
   "cell_type": "code",
   "execution_count": 6,
   "metadata": {},
   "outputs": [],
   "source": [
    "# Scale & transform X_train values\n",
    "\n",
    "X_train_ts = X_train.values\n",
    "#dataset = np.reshape(dataset, (-1, 1))\n",
    "X_scaler = MinMaxScaler(feature_range=(0, 1))\n",
    "X_train_ts = X_scaler.fit_transform(X_train_ts)\n"
   ]
  },
  {
   "cell_type": "code",
   "execution_count": 7,
   "metadata": {},
   "outputs": [
    {
     "data": {
      "text/plain": [
       "(624, 10)"
      ]
     },
     "execution_count": 7,
     "metadata": {},
     "output_type": "execute_result"
    }
   ],
   "source": [
    "X_train_ts.shape\n"
   ]
  },
  {
   "cell_type": "code",
   "execution_count": 8,
   "metadata": {},
   "outputs": [
    {
     "data": {
      "text/plain": [
       "(624, 1, 10)"
      ]
     },
     "execution_count": 8,
     "metadata": {},
     "output_type": "execute_result"
    }
   ],
   "source": [
    "# model expects shape (num_samples, num_timesteps, num_features)\n",
    "\n",
    "X_train_ts = np.reshape(X_train_ts, (X_train_ts.shape[0],1,X_train_ts.shape[1]))\n",
    "X_train_ts.shape\n"
   ]
  },
  {
   "cell_type": "code",
   "execution_count": 9,
   "metadata": {},
   "outputs": [
    {
     "data": {
      "text/plain": [
       "dtype('int64')"
      ]
     },
     "execution_count": 9,
     "metadata": {},
     "output_type": "execute_result"
    }
   ],
   "source": [
    "y_train.dtype"
   ]
  },
  {
   "cell_type": "code",
   "execution_count": 10,
   "metadata": {},
   "outputs": [],
   "source": [
    "y_train = y_train.astype('float')"
   ]
  },
  {
   "cell_type": "code",
   "execution_count": 11,
   "metadata": {},
   "outputs": [],
   "source": [
    "y_train_ts = y_train.values\n",
    "y_train_ts = np.reshape(y_train_ts, (-1,1))\n",
    "y_scaler = MinMaxScaler(feature_range=(0,1))\n",
    "y_train_ts = y_scaler.fit_transform(y_train_ts)\n"
   ]
  },
  {
   "cell_type": "code",
   "execution_count": 12,
   "metadata": {},
   "outputs": [
    {
     "data": {
      "text/plain": [
       "(624, 1)"
      ]
     },
     "execution_count": 12,
     "metadata": {},
     "output_type": "execute_result"
    }
   ],
   "source": [
    "y_train_ts.shape"
   ]
  },
  {
   "cell_type": "code",
   "execution_count": 13,
   "metadata": {},
   "outputs": [
    {
     "name": "stdout",
     "output_type": "stream",
     "text": [
      "WARNING:tensorflow:From /Applications/anaconda3/lib/python3.6/site-packages/tensorflow/python/framework/op_def_library.py:263: colocate_with (from tensorflow.python.framework.ops) is deprecated and will be removed in a future version.\n",
      "Instructions for updating:\n",
      "Colocations handled automatically by placer.\n",
      "WARNING:tensorflow:From /Applications/anaconda3/lib/python3.6/site-packages/keras/backend/tensorflow_backend.py:3445: calling dropout (from tensorflow.python.ops.nn_ops) with keep_prob is deprecated and will be removed in a future version.\n",
      "Instructions for updating:\n",
      "Please use `rate` instead of `keep_prob`. Rate should be set to `rate = 1 - keep_prob`.\n",
      "WARNING:tensorflow:From /Applications/anaconda3/lib/python3.6/site-packages/tensorflow/python/ops/math_ops.py:3066: to_int32 (from tensorflow.python.ops.math_ops) is deprecated and will be removed in a future version.\n",
      "Instructions for updating:\n",
      "Use tf.cast instead.\n",
      "Train on 561 samples, validate on 63 samples\n",
      "Epoch 1/50\n",
      "561/561 [==============================] - 4s 7ms/step - loss: 0.2996 - val_loss: 0.0900\n",
      "Epoch 2/50\n",
      "561/561 [==============================] - 0s 845us/step - loss: 0.0553 - val_loss: 0.0895\n",
      "Epoch 3/50\n",
      "561/561 [==============================] - 0s 844us/step - loss: 0.0381 - val_loss: 0.0334\n",
      "Epoch 4/50\n",
      "561/561 [==============================] - 0s 850us/step - loss: 0.0257 - val_loss: 0.0274\n",
      "Epoch 5/50\n",
      "561/561 [==============================] - 1s 930us/step - loss: 0.0196 - val_loss: 0.0273\n",
      "Epoch 6/50\n",
      "561/561 [==============================] - 1s 1ms/step - loss: 0.0161 - val_loss: 0.0231\n",
      "Epoch 7/50\n",
      "561/561 [==============================] - 1s 965us/step - loss: 0.0144 - val_loss: 0.0225\n",
      "Epoch 8/50\n",
      "561/561 [==============================] - 1s 947us/step - loss: 0.0152 - val_loss: 0.0210\n",
      "Epoch 9/50\n",
      "561/561 [==============================] - 1s 1ms/step - loss: 0.0140 - val_loss: 0.0199\n",
      "Epoch 10/50\n",
      "561/561 [==============================] - 1s 1ms/step - loss: 0.0132 - val_loss: 0.0194\n",
      "Epoch 11/50\n",
      "561/561 [==============================] - 1s 1ms/step - loss: 0.0129 - val_loss: 0.0183\n",
      "Epoch 12/50\n",
      "561/561 [==============================] - 0s 858us/step - loss: 0.0121 - val_loss: 0.0176\n",
      "Epoch 13/50\n",
      "561/561 [==============================] - 0s 843us/step - loss: 0.0122 - val_loss: 0.0167\n",
      "Epoch 14/50\n",
      "561/561 [==============================] - 1s 914us/step - loss: 0.0111 - val_loss: 0.0164\n",
      "Epoch 15/50\n",
      "561/561 [==============================] - 0s 839us/step - loss: 0.0115 - val_loss: 0.0157\n",
      "Epoch 16/50\n",
      "561/561 [==============================] - 0s 877us/step - loss: 0.0105 - val_loss: 0.0156\n",
      "Epoch 17/50\n",
      "561/561 [==============================] - 0s 821us/step - loss: 0.0108 - val_loss: 0.0148\n",
      "Epoch 18/50\n",
      "561/561 [==============================] - 0s 831us/step - loss: 0.0103 - val_loss: 0.0139\n",
      "Epoch 19/50\n",
      "561/561 [==============================] - 0s 803us/step - loss: 0.0101 - val_loss: 0.0140\n",
      "Epoch 20/50\n",
      "561/561 [==============================] - 0s 795us/step - loss: 0.0106 - val_loss: 0.0138\n",
      "Epoch 21/50\n",
      "561/561 [==============================] - 0s 838us/step - loss: 0.0102 - val_loss: 0.0131\n",
      "Epoch 22/50\n",
      "561/561 [==============================] - 0s 783us/step - loss: 0.0099 - val_loss: 0.0130\n",
      "Epoch 23/50\n",
      "561/561 [==============================] - 0s 847us/step - loss: 0.0098 - val_loss: 0.0133\n",
      "Epoch 24/50\n",
      "561/561 [==============================] - 0s 812us/step - loss: 0.0094 - val_loss: 0.0125\n",
      "Epoch 25/50\n",
      "561/561 [==============================] - 0s 787us/step - loss: 0.0096 - val_loss: 0.0122\n",
      "Epoch 26/50\n",
      "561/561 [==============================] - 0s 834us/step - loss: 0.0091 - val_loss: 0.0124\n",
      "Epoch 27/50\n",
      "561/561 [==============================] - 0s 848us/step - loss: 0.0095 - val_loss: 0.0135\n",
      "Epoch 28/50\n",
      "561/561 [==============================] - 0s 816us/step - loss: 0.0100 - val_loss: 0.0114\n",
      "Epoch 29/50\n",
      "561/561 [==============================] - 0s 850us/step - loss: 0.0089 - val_loss: 0.0114\n",
      "Epoch 30/50\n",
      "561/561 [==============================] - 0s 862us/step - loss: 0.0094 - val_loss: 0.0125\n",
      "Epoch 31/50\n",
      "561/561 [==============================] - 0s 802us/step - loss: 0.0095 - val_loss: 0.0119\n",
      "Epoch 32/50\n",
      "561/561 [==============================] - 0s 784us/step - loss: 0.0089 - val_loss: 0.0129\n",
      "Epoch 33/50\n",
      "561/561 [==============================] - 0s 858us/step - loss: 0.0094 - val_loss: 0.0123\n",
      "Epoch 34/50\n",
      "561/561 [==============================] - 0s 881us/step - loss: 0.0092 - val_loss: 0.0122\n",
      "Epoch 35/50\n",
      "561/561 [==============================] - 1s 894us/step - loss: 0.0088 - val_loss: 0.0116\n",
      "Epoch 36/50\n",
      "561/561 [==============================] - 0s 861us/step - loss: 0.0087 - val_loss: 0.0118\n",
      "Epoch 37/50\n",
      "561/561 [==============================] - 1s 927us/step - loss: 0.0092 - val_loss: 0.0127\n",
      "Epoch 38/50\n",
      "561/561 [==============================] - 1s 1ms/step - loss: 0.0100 - val_loss: 0.0119\n",
      "Epoch 39/50\n",
      "561/561 [==============================] - 1s 1ms/step - loss: 0.0096 - val_loss: 0.0114\n",
      "Epoch 40/50\n",
      "561/561 [==============================] - 1s 1ms/step - loss: 0.0093 - val_loss: 0.0119\n",
      "Epoch 41/50\n",
      "561/561 [==============================] - 1s 943us/step - loss: 0.0089 - val_loss: 0.0125\n",
      "Epoch 42/50\n",
      "561/561 [==============================] - 0s 886us/step - loss: 0.0095 - val_loss: 0.0116\n",
      "Epoch 43/50\n",
      "561/561 [==============================] - 0s 807us/step - loss: 0.0089 - val_loss: 0.0119\n",
      "Epoch 44/50\n",
      "561/561 [==============================] - 0s 861us/step - loss: 0.0082 - val_loss: 0.0124\n",
      "Epoch 45/50\n",
      "561/561 [==============================] - 0s 833us/step - loss: 0.0091 - val_loss: 0.0124\n",
      "Epoch 46/50\n",
      "561/561 [==============================] - 0s 787us/step - loss: 0.0087 - val_loss: 0.0123\n",
      "Epoch 47/50\n",
      "561/561 [==============================] - 0s 751us/step - loss: 0.0090 - val_loss: 0.0112\n",
      "Epoch 48/50\n",
      "561/561 [==============================] - 0s 785us/step - loss: 0.0087 - val_loss: 0.0118\n",
      "Epoch 49/50\n",
      "561/561 [==============================] - 0s 741us/step - loss: 0.0092 - val_loss: 0.0115\n",
      "Epoch 50/50\n",
      "561/561 [==============================] - 0s 886us/step - loss: 0.0085 - val_loss: 0.0118\n",
      "_________________________________________________________________\n",
      "Layer (type)                 Output Shape              Param #   \n",
      "=================================================================\n",
      "lstm_1 (LSTM)                (None, 1, 256)            273408    \n",
      "_________________________________________________________________\n",
      "dropout_1 (Dropout)          (None, 1, 256)            0         \n",
      "_________________________________________________________________\n",
      "lstm_2 (LSTM)                (None, 256)               525312    \n",
      "_________________________________________________________________\n",
      "dropout_2 (Dropout)          (None, 256)               0         \n",
      "_________________________________________________________________\n",
      "dense_1 (Dense)              (None, 1)                 257       \n",
      "=================================================================\n",
      "Total params: 798,977\n",
      "Trainable params: 798,977\n",
      "Non-trainable params: 0\n",
      "_________________________________________________________________\n"
     ]
    }
   ],
   "source": [
    "model = Sequential()\n",
    "model.add(LSTM(256, return_sequences=True, input_shape=(X_train_ts.shape[1], X_train_ts.shape[2])))\n",
    "model.add(Dropout(0.2))\n",
    "model.add(LSTM(256))\n",
    "model.add(Dropout(0.5))\n",
    "model.add(Dense(1))\n",
    "model.compile(loss='mean_squared_error', optimizer='adam')\n",
    "\n",
    "history = model.fit(X_train_ts, y_train_ts, epochs=50, batch_size=60, validation_split=.1, \n",
    "                    callbacks=[EarlyStopping(monitor='val_loss', patience=10)], verbose=1, shuffle=False)\n",
    "\n",
    "model.summary()\n"
   ]
  },
  {
   "cell_type": "code",
   "execution_count": 14,
   "metadata": {},
   "outputs": [
    {
     "data": {
      "text/plain": [
       "((209, 1, 10), (209, 1))"
      ]
     },
     "execution_count": 14,
     "metadata": {},
     "output_type": "execute_result"
    }
   ],
   "source": [
    "# scale X_test and y_test using appropriate scalers\n",
    "#X_test_ts = np.reshape(X_test_ts, (X_test_ts.shape[0],1,X_test_ts.shape[1]))\n",
    "X_test_ts = X_scaler.transform(X_test)\n",
    "X_test_ts = np.reshape(X_test_ts, (X_test_ts.shape[0],1,X_test_ts.shape[1]))\n",
    "\n",
    "y_test_ts = y_test.values\n",
    "y_test_ts = np.reshape(y_test_ts, (-1,1))\n",
    "y_test_ts = y_scaler.transform(y_test_ts)\n",
    "\n",
    "X_test_ts.shape, y_test_ts.shape"
   ]
  },
  {
   "cell_type": "code",
   "execution_count": 15,
   "metadata": {},
   "outputs": [
    {
     "data": {
      "text/plain": [
       "((624, 1, 10), (624, 1), (209, 1, 10), (209, 1))"
      ]
     },
     "execution_count": 15,
     "metadata": {},
     "output_type": "execute_result"
    }
   ],
   "source": [
    "X_train_ts.shape, y_train_ts.shape, X_test_ts.shape, y_test_ts.shape"
   ]
  },
  {
   "cell_type": "code",
   "execution_count": 16,
   "metadata": {},
   "outputs": [
    {
     "name": "stdout",
     "output_type": "stream",
     "text": [
      "(624, 1) (624, 1) (209, 1) (209, 1)\n",
      "Train Mean Absolute Error: 32.801973147270004\n",
      "Train Root Mean Squared Error: 50.27384444664048\n",
      "Test Mean Absolute Error: 34.30036904366963\n",
      "Test Root Mean Squared Error: 51.10015989725751\n"
     ]
    }
   ],
   "source": [
    "train_predict = model.predict(X_train_ts)\n",
    "test_predict = model.predict(X_test_ts)\n",
    "#print(train_predict.shape, test_predict.shape)\n",
    "\n",
    "# invert predictions\n",
    "train_predict = y_scaler.inverse_transform(train_predict)\n",
    "y_train_re = y_scaler.inverse_transform(y_train_ts)\n",
    "test_predict = y_scaler.inverse_transform(test_predict)\n",
    "y_test_re = y_scaler.inverse_transform(y_test_ts)\n",
    "print(train_predict.shape,y_train_re.shape,test_predict.shape,y_test_re.shape)\n",
    "\n",
    "print('Train Mean Absolute Error:', mean_absolute_error(y_train_re, train_predict))\n",
    "print('Train Root Mean Squared Error:',np.sqrt(mean_squared_error(y_train_re, train_predict)))\n",
    "print('Test Mean Absolute Error:', mean_absolute_error(y_test_re, test_predict))\n",
    "print('Test Root Mean Squared Error:',np.sqrt(mean_squared_error(y_test_re, test_predict)))\n",
    "\n"
   ]
  },
  {
   "cell_type": "code",
   "execution_count": 17,
   "metadata": {},
   "outputs": [
    {
     "name": "stdout",
     "output_type": "stream",
     "text": [
      "Train R^2:  0.7325822246021063\n",
      "Test R^2:  0.6904023285666558\n"
     ]
    }
   ],
   "source": [
    "print('Train R^2: ', r2_score(y_train_re, train_predict))\n",
    "print('Test R^2: ', r2_score(y_test_re, test_predict))"
   ]
  },
  {
   "cell_type": "code",
   "execution_count": 18,
   "metadata": {},
   "outputs": [
    {
     "data": {
      "image/png": "[encoded data removed]",
      "text/plain": [
       "<Figure size 576x288 with 1 Axes>"
      ]
     },
     "metadata": {
      "needs_background": "light"
     },
     "output_type": "display_data"
    }
   ],
   "source": [
    "plt.figure(figsize=(8,4))\n",
    "plt.plot(history.history['loss'], label='Train Loss')\n",
    "plt.plot(history.history['val_loss'], label='Test Loss')\n",
    "plt.title('model loss')\n",
    "plt.ylabel('loss')\n",
    "plt.xlabel('epochs')\n",
    "plt.legend(loc='upper right')\n",
    "plt.show();"
   ]
  },
  {
   "cell_type": "code",
   "execution_count": 19,
   "metadata": {},
   "outputs": [
    {
     "data": {
      "text/plain": [
       "Text(0.5, 1.0, 'Train: True vs. Predicted')"
      ]
     },
     "execution_count": 19,
     "metadata": {},
     "output_type": "execute_result"
    },
    {
     "data": {
      "image/png": "[encoded data removed]",
      "text/plain": [
       "<Figure size 360x360 with 1 Axes>"
      ]
     },
     "metadata": {
      "needs_background": "light"
     },
     "output_type": "display_data"
    }
   ],
   "source": [
    "train_acc = pd.DataFrame()\n",
    "train_acc['y_true'] = y_train_re[:,0]\n",
    "train_acc['y_pred'] = train_predict[:,0]\n",
    "\n",
    "x = np.linspace(200,800,1000)\n",
    "ax = sns.lmplot(x='y_true', y='y_pred', data=train_acc, fit_reg=False)\n",
    "ax = sns.lineplot(x=x,y=x, color='red')\n",
    "plt.title('Train: True vs. Predicted')"
   ]
  },
  {
   "cell_type": "code",
   "execution_count": 20,
   "metadata": {},
   "outputs": [
    {
     "data": {
      "text/plain": [
       "Text(0.5, 1.0, 'Test: True vs. Predicted')"
      ]
     },
     "execution_count": 20,
     "metadata": {},
     "output_type": "execute_result"
    },
    {
     "data": {
      "image/png": "[encoded data removed]",
      "text/plain": [
       "<Figure size 360x360 with 1 Axes>"
      ]
     },
     "metadata": {
      "needs_background": "light"
     },
     "output_type": "display_data"
    }
   ],
   "source": [
    "test_acc = pd.DataFrame()\n",
    "test_acc['y_true'] = y_test_re[:,0]\n",
    "test_acc['y_pred'] = test_predict[:,0]\n",
    "\n",
    "#fig, ax = plt.subplots(figsize=(6,6))\n",
    "x = np.linspace(200,800,1000)\n",
    "ax = sns.lmplot(x='y_true', y='y_pred', data=test_acc, fit_reg=False)\n",
    "ax = sns.lineplot(x=x,y=x, color='red')\n",
    "plt.title('Test: True vs. Predicted')"
   ]
  },
  {
   "cell_type": "markdown",
   "metadata": {},
   "source": [
    "The results of this LSTM model show that demographic variables and the reading score in one grade predict the reading score in the subsequent grade with 70.0% accuracy. Results will of course vary depending on the train-test split. \n",
    "\n",
    "But, we don't know which predictor variables contributed to this accuracy level, nor does the model demonstrate the efficacy of the universal newborn hearing screening program. \n",
    "\n",
    "The Linear Regression example shows the breakdown of how different predictors contribute to reading scores.\n",
    "\n",
    "The Visualization example shows how reading scores change over time."
   ]
  },
  {
   "cell_type": "code",
   "execution_count": null,
   "metadata": {},
   "outputs": [],
   "source": []
  }
 ],
 "metadata": {
  "kernelspec": {
   "display_name": "Python 3",
   "language": "python",
   "name": "python3"
  },
  "language_info": {
   "codemirror_mode": {
    "name": "ipython",
    "version": 3
   },
   "file_extension": ".py",
   "mimetype": "text/x-python",
   "name": "python",
   "nbconvert_exporter": "python",
   "pygments_lexer": "ipython3",
   "version": "3.6.8"
  }
 },
 "nbformat": 4,
 "nbformat_minor": 2
}
